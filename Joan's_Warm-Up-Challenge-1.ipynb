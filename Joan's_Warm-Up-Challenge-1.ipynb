{
 "cells": [
  {
   "cell_type": "markdown",
   "metadata": {},
   "source": [
    "## Welcome to the Q-SEnSE Hackathon!\n",
    "### This is a warmup challenge designed to give you basic familiarity with writing quantum circuits in CUDA Quantum and Supermarq (which uses Google's quantum package Cirq).\n",
    "\n",
    "#### The goal of this challenge is to write the simplest (yet still useful) quantum circuit: the quantum random number generator! ($25)"
   ]
  },
  {
   "cell_type": "markdown",
   "metadata": {},
   "source": [
    "Your mission, should you choose to accept it, is to write a quantum random number generator (QMRG) in either CUDA Quantum or Supermarq (or both!). This QMRG will take the form of a function that takes as input an integer x and outputs a random number between 0 and x-1. \n",
    "\n",
    "Hint: This function should behave just like the pseudorandom python function randrange(x) but due to its use of quantum randomness is truely random not just pseudorandom!\n"
   ]
  },
  {
   "cell_type": "markdown",
   "metadata": {},
   "source": [
    "#### Example Code:\n",
    "\n",
    "Here is an example of the random number generator written in Qiskit (IBM's quantum package) - your code should reproduce the random bit generator in Cirq or CUDA Quantum in such a way as to display a random integer (this code produces a random n-bit string instead of an integer)!"
   ]
  },
  {
   "cell_type": "code",
   "execution_count": 2,
   "metadata": {},
   "outputs": [],
   "source": [
    "###\n",
    "#Generating a Qrandom number between 0 and n-1 in Qiskit\n",
    "###\n",
    "\n",
    "def Qrand(n):\n",
    "\n",
    "    import numpy as np\n",
    "    from qiskit import QuantumCircuit, QuantumRegister, ClassicalRegister, transpile\n",
    "    from qiskit.providers.aer import QasmSimulator\n",
    "    from qiskit.visualization import plot_histogram\n",
    "\n",
    "\n",
    "    # Use Aer's qasm_simulator\n",
    "    simulator = QasmSimulator()\n",
    "\n",
    "    # Create a Quantum Circuit acting on the q register\n",
    "    qr = QuantumRegister(n, 'q')\n",
    "    cr = ClassicalRegister(n, 'c')\n",
    "    circuit = QuantumCircuit(qr, cr)\n",
    "\n",
    "\n",
    "# Add a H gate on all qubits\n",
    "    for i in range(0,n):\n",
    "            circuit.h(i)\n",
    "\n",
    "\n",
    "# Map the quantum measurement to the classical bits\n",
    "    circuit.measure(qr, cr)\n",
    "\n",
    "# compile the circuit down to low-level QASM instructions\n",
    "# supported by the backend (not needed for simple circuits)\n",
    "    compiled_circuit = transpile(circuit, simulator)\n",
    "\n",
    "# Execute the circuit on the qasm simulator\n",
    "    job = simulator.run(compiled_circuit, shots=1)\n",
    "\n",
    "# Grab results from the job\n",
    "    result = job.result()\n",
    "\n",
    "\n",
    "# Returns counts\n",
    "    counts = result.get_counts(compiled_circuit)\n",
    "    print(counts)"
   ]
  },
  {
   "cell_type": "markdown",
   "metadata": {},
   "source": [
    "This example run returns an output in the form {random bit string : probability of that string}"
   ]
  },
  {
   "cell_type": "code",
   "execution_count": 2,
   "metadata": {},
   "outputs": [
    {
     "name": "stdout",
     "output_type": "stream",
     "text": [
      "{'0110': 1}\n"
     ]
    }
   ],
   "source": [
    "Qrand(4)"
   ]
  },
  {
   "cell_type": "code",
   "execution_count": 3,
   "metadata": {},
   "outputs": [
    {
     "name": "stdout",
     "output_type": "stream",
     "text": [
      "{'0100111101': 1}\n"
     ]
    }
   ],
   "source": [
    "Qrand(10)"
   ]
  },
  {
   "cell_type": "code",
   "execution_count": 3,
   "metadata": {},
   "outputs": [],
   "source": [
    "import collections\n",
    "\n",
    "import cirq\n",
    "from cirq.contrib.qasm_import import circuit_from_qasm\n",
    "from qiskit.synthesis import generate_basic_approximations\n",
    "from qiskit.transpiler.passes.synthesis import SolovayKitaev\n",
    "\n",
    "import supermarq\n",
    "from supermarq.benchmark import Benchmark\n",
    "from supermarq.benchmarks.bit_code import BitCode\n",
    "from supermarq.benchmarks.phase_code import PhaseCode\n",
    "from supermarq.benchmarks.ghz import GHZ\n",
    "from supermarq.benchmarks.hamiltonian_simulation import HamiltonianSimulation\n",
    "from supermarq.benchmarks.mermin_bell import MerminBell\n",
    "from supermarq.benchmarks.qaoa_fermionic_swap_proxy import QAOAFermionicSwapProxy\n",
    "from supermarq.benchmarks.qaoa_vanilla_proxy import QAOAVanillaProxy\n",
    "from supermarq.benchmarks.vqe_proxy import VQEProxy"
   ]
  },
  {
   "cell_type": "code",
   "execution_count": 4,
   "metadata": {},
   "outputs": [],
   "source": [
    "# Utilities\n",
    "def compile_to_clifford_t(circuit: cirq.Circuit) -> cirq.Circuit:\n",
    "    \"\"\"Compiles to the clifford + t gateset (H, S, CNOT, T)\"\"\"\n",
    "    qiskit_circuit = supermarq.converters.cirq_to_qiskit(circuit)\n",
    "    qiskit_circuit.remove_final_measurements()\n",
    "    basis = [\"h\", \"s\", \"t\"]\n",
    "    approx = generate_basic_approximations(basis, depth=3)\n",
    "\n",
    "    skd = SolovayKitaev(recursion_degree=2, basic_approximations=approx)\n",
    " \n",
    "    discretized = skd(qiskit_circuit)\n",
    "\n",
    "    qasm = discretized.qasm()\n",
    " \n",
    "    return circuit_from_qasm(qasm)\n",
    "\n",
    "\n",
    "def results_to_counts(circuit: cirq.Circuit, results: cirq.Result) -> collections.Counter[str]:\n",
    "    \"\"\"Transforms cirq.Result in collection.Counter\"\"\"\n",
    "    new_collections_counter: collections.Counter[str] = collections.Counter()\n",
    "    keys = sorted(circuit.all_measurement_key_names())\n",
    "    num_qubits_measured_per_key = [results.measurements[key].shape[1] for key in keys]\n",
    "    histogram = results.multi_measurement_histogram(keys=keys)\n",
    "\n",
    "    for old_keys in histogram:\n",
    "        new_key = \"\".join(\n",
    "                f\"{old_key:>0{num_qubits_measured}b}\"\n",
    "                for old_key, num_qubits_measured in zip(old_keys, num_qubits_measured_per_key)\n",
    "            )\n",
    "        new_collections_counter[new_key] = histogram[old_keys]\n",
    "\n",
    "    return new_collections_counter"
   ]
  },
  {
   "cell_type": "code",
   "execution_count": 5,
   "metadata": {},
   "outputs": [],
   "source": [
    "class BitCode(BitCode):\n",
    "    def circuit(self) -> cirq.Circuit:\n",
    "        pass"
   ]
  },
  {
   "cell_type": "code",
   "execution_count": 9,
   "metadata": {},
   "outputs": [],
   "source": [
    "#ask user for the top range number\n",
    "def userNum():\n",
    "    topNum = int(input(\"Enter the top range number: \"))\n",
    "    return topNum\n",
    "\n",
    "#figure out how many bits the users input will be represented by\n",
    "def userBits(topNum):\n",
    "    binary = bin(topNum)\n",
    "    bits = binary.bit_length()\n",
    "    return bits\n",
    "\n",
    "def rand(bits, topNum):\n",
    "    #Creates a quantum circuit\n",
    "    circuit = cirq.Circuit(cirq.depolarize(0.5).on('a'), cirq.measure('a'))\n",
    "    simulator = cirq.Simulator()\n",
    "    result = simulator.run(circuit, repetitions = bits)\n",
    "\n",
    "    for i in range(topNum):\n",
    "        qubit = cirq.LineQubit(i)\n",
    "        circuit.append(cirq.H(qubit))\n",
    "\n",
    "    generated_nums = []\n",
    "    for measurements in result.measurements['a']:\n",
    "        generated_num = int(''.join(str(bit) for bit in measurements), 2)\n",
    "        generated_nums.append(generated_num)\n",
    "\n",
    "    return generated_nums\n",
    "\n",
    "def main():\n",
    "    tNum = userNum()\n",
    "    bNum = userBits(tNum)\n",
    "    gNum = None\n",
    "\n",
    "    while gNum is None or gNum > tNum -1:\n",
    "        gNum = rand(bNum, tNum)\n",
    "\n",
    "    print(\"Number generated: \", gNum)\n",
    "\n",
    "    if __name__ == \"__main_-\":\n",
    "        main()"
   ]
  }
 ],
 "metadata": {
  "kernelspec": {
   "display_name": "base",
   "language": "python",
   "name": "python3"
  },
  "language_info": {
   "codemirror_mode": {
    "name": "ipython",
    "version": 3
   },
   "file_extension": ".py",
   "mimetype": "text/x-python",
   "name": "python",
   "nbconvert_exporter": "python",
   "pygments_lexer": "ipython3",
   "version": "3.12.1"
  }
 },
 "nbformat": 4,
 "nbformat_minor": 2
}
